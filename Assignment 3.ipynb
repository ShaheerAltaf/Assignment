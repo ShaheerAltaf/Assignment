{
 "cells": [
  {
   "cell_type": "code",
   "execution_count": 1,
   "id": "a923c62d",
   "metadata": {},
   "outputs": [
    {
     "name": "stdout",
     "output_type": "stream",
     "text": [
      "Twinkle, twinkle, little star,\n",
      "\tHow I wonder what you are!\n",
      "\t\tUp above the world so high,\n",
      "\t\tLike a diamond in the sky.\n",
      "Twinkle, twinkle, little star,\n",
      "\tHow I wonder what you are \n"
     ]
    }
   ],
   "source": [
    "print(\"Twinkle, twinkle, little star,\\n\\tHow I wonder what you are!\\n\\t\\tUp above the world so high,\\n\\t\\tLike a diamond in the sky.\\nTwinkle, twinkle, little star,\\n\\tHow I wonder what you are \");"
   ]
  },
  {
   "cell_type": "code",
   "execution_count": 10,
   "id": "31a986f5",
   "metadata": {},
   "outputs": [
    {
     "name": "stdout",
     "output_type": "stream",
     "text": [
      "Python version:\n",
      "3.8.8 (default, Apr 13 2021, 15:08:03) [MSC v.1916 64 bit (AMD64)]\n"
     ]
    }
   ],
   "source": [
    "print(\"Python version:\");\n",
    "print (sys.version);"
   ]
  },
  {
   "cell_type": "code",
   "execution_count": 2,
   "id": "e4378e15",
   "metadata": {},
   "outputs": [
    {
     "name": "stdout",
     "output_type": "stream",
     "text": [
      "Date:\t\tTime: \n",
      "28-10-21\t01:49:48\n"
     ]
    }
   ],
   "source": [
    "import datetime\n",
    "now = datetime.datetime.now()\n",
    "print (\"Date:\\t\\tTime: \")\n",
    "print (now.strftime(\"%d-%m-%y\\t%H:%M:%S\"))"
   ]
  },
  {
   "cell_type": "code",
   "execution_count": 17,
   "id": "50ef4c75",
   "metadata": {},
   "outputs": [
    {
     "name": "stdout",
     "output_type": "stream",
     "text": [
      "Enter the value of radius : 5.3\n",
      "The area of the circle is: 88.24733763933729\n"
     ]
    }
   ],
   "source": [
    "r = float(input (\"Enter the value of radius : \"));\n",
    "area = (3.141592653589793)*(r**2);\n",
    "print(\"The area of the circle is: \"+str(area));"
   ]
  },
  {
   "cell_type": "code",
   "execution_count": 29,
   "id": "5323aa75",
   "metadata": {},
   "outputs": [
    {
     "name": "stdout",
     "output_type": "stream",
     "text": [
      "Input your First Name : Shaheer\n",
      "Input your Last Name : Altaf\n",
      "Altaf Shaheer\n"
     ]
    }
   ],
   "source": [
    "first = input(\"Input your First Name : \")\n",
    "second = input(\"Input your Last Name : \")\n",
    "print (\"\" + second + \" \" + first)"
   ]
  },
  {
   "cell_type": "code",
   "execution_count": 32,
   "id": "9f2763d7",
   "metadata": {},
   "outputs": [
    {
     "name": "stdout",
     "output_type": "stream",
     "text": [
      "Input first number: 5.82\n",
      "Input second number: 9.28\n",
      "Sum of two numbers is 15.1\n"
     ]
    }
   ],
   "source": [
    "x = float(input (\"Input first number: \"));\n",
    "y = float(input (\"Input second number: \"));\n",
    "sum = x+y;\n",
    "print(\"Sum of two numbers is \"+str(sum));"
   ]
  },
  {
   "cell_type": "code",
   "execution_count": 3,
   "id": "dafdbc36",
   "metadata": {},
   "outputs": [
    {
     "name": "stdout",
     "output_type": "stream",
     "text": [
      "Enter marks of the Mathematics: 78\n",
      "Enter marks of the Chemistry: 69\n",
      "Enter marks of the Physics: 62\n",
      "Enter marks of the Urdu: 96\n",
      "Enter marks of the Computer: 55\n",
      "80.2\n",
      "Grade: A+\n"
     ]
    }
   ],
   "source": [
    "sub1=int(input(\"Enter marks of the Mathematics: \"))\n",
    "sub2=int(input(\"Enter marks of the Chemistry: \"))\n",
    "sub3=int(input(\"Enter marks of the Physics: \"))\n",
    "sub4=int(input(\"Enter marks of the Urdu: \"))\n",
    "sub5=int(input(\"Enter marks of the Computer: \"))\n",
    "per=(sub1+sub2+sub3+sub4+sub4)/500\n",
    "per = per*100\n",
    "print(per)\n",
    "if(per>=80):\n",
    "    print(\"Grade: A+\")\n",
    "elif(per>=70 and per<80):\n",
    "    print(\"Grade: A\")\n",
    "elif(per>=60 and per<70):\n",
    "    print(\"Grade: B\")\n",
    "elif(per>=50 and per<60):\n",
    "    print(\"Grade: C\")\n",
    "elif(per>=40 and per<50):\n",
    "    print(\"Grade: D\")\n",
    "else:\n",
    "    print(\"Grade: F\")"
   ]
  },
  {
   "cell_type": "code",
   "execution_count": 4,
   "id": "dcd87291",
   "metadata": {},
   "outputs": [
    {
     "name": "stdout",
     "output_type": "stream",
     "text": [
      "Enter the Number: 9\n",
      "The Given Number is Odd\n"
     ]
    }
   ],
   "source": [
    "number = int(input(\"Enter the Number: \"))\n",
    "if number%2==0:\n",
    "    print(\"The Given Number is Even\")\n",
    "else:\n",
    "    print(\"The Given Number is Odd\")"
   ]
  },
  {
   "cell_type": "code",
   "execution_count": 5,
   "id": "f38b37a6",
   "metadata": {},
   "outputs": [
    {
     "name": "stdout",
     "output_type": "stream",
     "text": [
      "The length of the list is :\n"
     ]
    },
    {
     "data": {
      "text/plain": [
       "8"
      ]
     },
     "execution_count": 5,
     "metadata": {},
     "output_type": "execute_result"
    }
   ],
   "source": [
    "x = [1,3,5,7,7,8,9,11]\n",
    "print(\"The length of the list is :\")\n",
    "len(x)"
   ]
  },
  {
   "cell_type": "code",
   "execution_count": 6,
   "id": "1b446a7b",
   "metadata": {},
   "outputs": [
    {
     "name": "stdout",
     "output_type": "stream",
     "text": [
      "How many numbers: 4\n",
      "Enter number 8\n",
      "Enter number 7\n",
      "Enter number 2\n",
      "Enter number 5\n",
      "Sum of elements in given list is :\n"
     ]
    },
    {
     "data": {
      "text/plain": [
       "22"
      ]
     },
     "execution_count": 6,
     "metadata": {},
     "output_type": "execute_result"
    }
   ],
   "source": [
    "lst = []\n",
    "num = int(input('How many numbers: '))\n",
    "for n in range(num):\n",
    "    numbers = int(input('Enter number '))\n",
    "    lst.append(numbers)\n",
    "print(\"Sum of elements in given list is :\")\n",
    "sum(lst)"
   ]
  },
  {
   "cell_type": "code",
   "execution_count": 7,
   "id": "c3ef513f",
   "metadata": {},
   "outputs": [
    {
     "name": "stdout",
     "output_type": "stream",
     "text": [
      "The Largest element of the list:  345\n"
     ]
    }
   ],
   "source": [
    "list1 = [32,54,324,56,345,64,56,34,65]\n",
    "list1.sort()\n",
    "print(\"The Largest element of the list: \",list1[-1])"
   ]
  },
  {
   "cell_type": "code",
   "execution_count": 8,
   "id": "ddd8e444",
   "metadata": {},
   "outputs": [
    {
     "name": "stdout",
     "output_type": "stream",
     "text": [
      "[1]\n",
      "[1, 1]\n",
      "[1, 1, 2]\n",
      "[1, 1, 2, 3]\n"
     ]
    }
   ],
   "source": [
    "a = [1, 1, 2, 3, 5, 8, 13, 21, 34, 55, 89]\n",
    "new_items = []\n",
    "for item in a:\n",
    "    if item < 5:\n",
    "        new_items.append(item)\n",
    "        print(new_items)"
   ]
  },
  {
   "cell_type": "code",
   "execution_count": null,
   "id": "ba35c9a6",
   "metadata": {},
   "outputs": [],
   "source": []
  }
 ],
 "metadata": {
  "kernelspec": {
   "display_name": "Python 3",
   "language": "python",
   "name": "python3"
  },
  "language_info": {
   "codemirror_mode": {
    "name": "ipython",
    "version": 3
   },
   "file_extension": ".py",
   "mimetype": "text/x-python",
   "name": "python",
   "nbconvert_exporter": "python",
   "pygments_lexer": "ipython3",
   "version": "3.8.8"
  }
 },
 "nbformat": 4,
 "nbformat_minor": 5
}
